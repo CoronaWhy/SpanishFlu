{
  "nbformat": 4,
  "nbformat_minor": 0,
  "metadata": {
    "colab": {
      "name": "PDF2Image.ipynb",
      "provenance": [],
      "collapsed_sections": [],
      "toc_visible": true
    },
    "kernelspec": {
      "name": "python3",
      "display_name": "Python 3"
    }
  },
  "cells": [
    {
      "cell_type": "markdown",
      "metadata": {
        "id": "FguzkmlCOPFZ",
        "colab_type": "text"
      },
      "source": [
        "# Setup\n",
        "\n",
        "Please install  poppler in the conda environment by using `sudo apt-get install poppler-utils`"
      ]
    },
    {
      "cell_type": "code",
      "metadata": {
        "id": "DYdO5p2lvetY",
        "colab_type": "code",
        "colab": {
          "base_uri": "https://localhost:8080/",
          "height": 591
        },
        "outputId": "c3c259a2-1f12-47f5-8fb2-b46886f66482"
      },
      "source": [
        "#Point to file location on Google Drive\n",
        "!sudo apt-get install poppler-utils\n",
        "!pip install pdf2image \n",
        "import os\n",
        "from google.colab import drive\n",
        "from pdf2image.exceptions import (\n",
        "PDFInfoNotInstalledError,\n",
        "PDFPageCountError,\n",
        "PDFSyntaxError\n",
        ")\n",
        " \n",
        "import subprocess \n",
        "import time\n",
        "import warnings\n",
        "from pdf2image import convert_from_path\n",
        "from PIL import Image\n",
        "Image.MAX_IMAGE_PIXELS = None\n",
        "warnings.filterwarnings(\"ignore\")"
      ],
      "execution_count": null,
      "outputs": [
        {
          "output_type": "stream",
          "text": [
            "Reading package lists... Done\n",
            "Building dependency tree       \n",
            "Reading state information... Done\n",
            "The following package was automatically installed and is no longer required:\n",
            "  libnvidia-common-440\n",
            "Use 'sudo apt autoremove' to remove it.\n",
            "The following NEW packages will be installed:\n",
            "  poppler-utils\n",
            "0 upgraded, 1 newly installed, 0 to remove and 35 not upgraded.\n",
            "Need to get 154 kB of archives.\n",
            "After this operation, 613 kB of additional disk space will be used.\n",
            "Get:1 http://archive.ubuntu.com/ubuntu bionic-updates/main amd64 poppler-utils amd64 0.62.0-2ubuntu2.10 [154 kB]\n",
            "Fetched 154 kB in 2s (100 kB/s)\n",
            "debconf: unable to initialize frontend: Dialog\n",
            "debconf: (No usable dialog-like program is installed, so the dialog based frontend cannot be used. at /usr/share/perl5/Debconf/FrontEnd/Dialog.pm line 76, <> line 1.)\n",
            "debconf: falling back to frontend: Readline\n",
            "debconf: unable to initialize frontend: Readline\n",
            "debconf: (This frontend requires a controlling tty.)\n",
            "debconf: falling back to frontend: Teletype\n",
            "dpkg-preconfigure: unable to re-open stdin: \n",
            "Selecting previously unselected package poppler-utils.\n",
            "(Reading database ... 144487 files and directories currently installed.)\n",
            "Preparing to unpack .../poppler-utils_0.62.0-2ubuntu2.10_amd64.deb ...\n",
            "Unpacking poppler-utils (0.62.0-2ubuntu2.10) ...\n",
            "Setting up poppler-utils (0.62.0-2ubuntu2.10) ...\n",
            "Processing triggers for man-db (2.8.3-2ubuntu0.1) ...\n",
            "Collecting pdf2image\n",
            "  Downloading https://files.pythonhosted.org/packages/c6/62/bf2df0547cf4e216b329a9d39a7aa6c755f02071e63e17a4b76690ebfe20/pdf2image-1.13.1-py3-none-any.whl\n",
            "Requirement already satisfied: pillow in /usr/local/lib/python3.6/dist-packages (from pdf2image) (7.0.0)\n",
            "Installing collected packages: pdf2image\n",
            "Successfully installed pdf2image-1.13.1\n"
          ],
          "name": "stdout"
        }
      ]
    },
    {
      "cell_type": "markdown",
      "metadata": {
        "id": "Q2qzDCrlOduF",
        "colab_type": "text"
      },
      "source": [
        "# Setting up the path\n"
      ]
    },
    {
      "cell_type": "code",
      "metadata": {
        "id": "r0BCHlY4LMF5",
        "colab_type": "code",
        "colab": {
          "base_uri": "https://localhost:8080/",
          "height": 144
        },
        "outputId": "daaa3b1f-1abc-4e15-89bf-69fddc694333"
      },
      "source": [
        "drive.mount('/content/gdrive', force_remount=True)\n",
        "root = os.getcwd()\n",
        "download_destination = 'gdrive/My Drive/COVID-19/data/spanish_flu_pdf'\n",
        "cwd = os.path.join(root, download_destination)\n",
        "os.chdir(cwd)\n",
        "print('Current working directory: ', os.getcwd())\n"
      ],
      "execution_count": null,
      "outputs": [
        {
          "output_type": "stream",
          "text": [
            "Go to this URL in a browser: https://accounts.google.com/o/oauth2/auth?client_id=947318989803-6bn6qk8qdgf4n4g3pfee6491hc0brc4i.apps.googleusercontent.com&redirect_uri=urn%3aietf%3awg%3aoauth%3a2.0%3aoob&response_type=code&scope=email%20https%3a%2f%2fwww.googleapis.com%2fauth%2fdocs.test%20https%3a%2f%2fwww.googleapis.com%2fauth%2fdrive%20https%3a%2f%2fwww.googleapis.com%2fauth%2fdrive.photos.readonly%20https%3a%2f%2fwww.googleapis.com%2fauth%2fpeopleapi.readonly\n",
            "\n",
            "Enter your authorization code:\n",
            "··········\n",
            "Mounted at /content/gdrive\n",
            "Current working directory:  /content/gdrive/My Drive/COVID-19/data/spanish_flu_pdf\n"
          ],
          "name": "stdout"
        }
      ]
    },
    {
      "cell_type": "markdown",
      "metadata": {
        "id": "mQ4w8XAJOjDE",
        "colab_type": "text"
      },
      "source": [
        "# Removing the unwanted character \n",
        " \n",
        "we used word tokenizer to split the PDF'S names to a list"
      ]
    },
    {
      "cell_type": "code",
      "metadata": {
        "id": "1tX1h-J0yjF9",
        "colab_type": "code",
        "colab": {
          "base_uri": "https://localhost:8080/",
          "height": 71
        },
        "outputId": "2104fb85-2b7a-4d38-a92e-4a2f12eb9708"
      },
      "source": [
        "import nltk\n",
        "from nltk import word_tokenize\n",
        "nltk.download('punkt')\n",
        "\n",
        "list_pdf = \"dir *.pdf\"\n",
        "shell_command = subprocess.check_output(list_pdf, shell=True)\n",
        "shell =  shell_command.decode('utf-8')\n",
        "shell = word_tokenize(shell)\n",
        "\n",
        "print(shell)\n",
        "\n",
        "# !rm *.pdf"
      ],
      "execution_count": null,
      "outputs": [
        {
          "output_type": "stream",
          "text": [
            "[nltk_data] Downloading package punkt to /root/nltk_data...\n",
            "[nltk_data]   Package punkt is already up-to-date!\n",
            "['0044.pdf', '0103.pdf', '0639.pdf', '1032.pdf', '2002.pdf']\n"
          ],
          "name": "stdout"
        }
      ]
    },
    {
      "cell_type": "markdown",
      "metadata": {
        "id": "RdrvmjJKPHSy",
        "colab_type": "text"
      },
      "source": [
        "# PDF2Image Conversion\n",
        "using PDF2Image library, converted the LOC pdf's to image(JPEG) format to pass on to the ocr"
      ]
    },
    {
      "cell_type": "code",
      "metadata": {
        "id": "V-YY4y18Llpj",
        "colab_type": "code",
        "colab": {}
      },
      "source": [
        "#Make new directory to store jpegs in\n",
        "!mkdir 'spanish_flu_images' -p"
      ],
      "execution_count": null,
      "outputs": []
    },
    {
      "cell_type": "code",
      "metadata": {
        "id": "4D4j4rZ7O3oB",
        "colab_type": "code",
        "colab": {}
      },
      "source": [
        "output_folder='spanish_flu_jpg' #in the current working directory\n",
        "\n",
        "#Convert PDFs to Jpeg\n",
        "initiation_time = time.time()\n",
        "for paper in shell[:10]:\n",
        "    print(paper)\n",
        "    pages = convert_from_path(i, 300)\n",
        "    for page in pages:\n",
        "        print(page)\n",
        "        start_time = time.time()\n",
        "        #fname = f\"{root}/SpanishFlu/\"\n",
        "        name = str(i[:-4])+\".jpeg\"\n",
        "        #doc_dir = os.path.join(fname, name)\n",
        "        #f#iles = open(doc_dir,'w')\n",
        "        page.save('/'.join(('spanish_flu_jpg', name)),\"JPEG\")\n",
        "        print (f\"Time taken for {i}:\" + str(time.time() - start_time))"
      ],
      "execution_count": null,
      "outputs": []
    },
    {
      "cell_type": "code",
      "metadata": {
        "id": "PZIbV61sd4I1",
        "colab_type": "code",
        "colab": {
          "base_uri": "https://localhost:8080/",
          "height": 214
        },
        "outputId": "cc79da6e-a34c-4cb3-bf32-dc25ed1c661d"
      },
      "source": [
        "#Another variation of the code above: \n",
        "initiation_time = time.time()\n",
        "for paper in shell:\n",
        "    print(paper)\n",
        "    start_time = time.time()\n",
        "    filename = paper.replace('.pdf', '')\n",
        "    article = convert_from_path(paper, \n",
        "                                dpi=300, \n",
        "                                output_folder=output_folder, \n",
        "                                output_file=filename,\n",
        "                                fmt='jpeg', #Supported values are jpeg, png, ppm and tiff (file sizes in that order)\n",
        "                                jpegopt={\"quality\": 100,\n",
        "                                         \"progressive\": True,\n",
        "                                         \"optimize\": True}) \n",
        "    \n",
        "    print(f\"Time taken for {paper}: \" + str(time.time() - start_time))\n",
        "\n",
        "print(\"the process took {}\".format(str(time.time() - initiation_time)))"
      ],
      "execution_count": null,
      "outputs": [
        {
          "output_type": "stream",
          "text": [
            "0044.pdf\n",
            "Time taken for 0044.pdf: 2.418792247772217\n",
            "0103.pdf\n",
            "Time taken for 0103.pdf: 3.522592067718506\n",
            "0639.pdf\n",
            "Time taken for 0639.pdf: 4.546106576919556\n",
            "1032.pdf\n",
            "Time taken for 1032.pdf: 3.1754934787750244\n",
            "2002.pdf\n",
            "Time taken for 2002.pdf: 0.802398681640625\n",
            "the process took 14.466893672943115\n"
          ],
          "name": "stdout"
        }
      ]
    },
    {
      "cell_type": "code",
      "metadata": {
        "id": "HE672L0xsFGm",
        "colab_type": "code",
        "colab": {}
      },
      "source": [
        ""
      ],
      "execution_count": null,
      "outputs": []
    }
  ]
}