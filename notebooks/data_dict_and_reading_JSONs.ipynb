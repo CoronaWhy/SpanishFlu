{
  "nbformat": 4,
  "nbformat_minor": 0,
  "metadata": {
    "kernelspec": {
      "display_name": "Python 3",
      "language": "python",
      "name": "python3"
    },
    "language_info": {
      "codemirror_mode": {
        "name": "ipython",
        "version": 3
      },
      "file_extension": ".py",
      "mimetype": "text/x-python",
      "name": "python",
      "nbconvert_exporter": "python",
      "pygments_lexer": "ipython3",
      "version": "3.7.6"
    },
    "colab": {
      "name": "data_dict_and_reading_JSONs.ipynb",
      "provenance": []
    }
  },
  "cells": [
    {
      "cell_type": "markdown",
      "metadata": {
        "id": "93yOrxLepW45",
        "colab_type": "text"
      },
      "source": [
        "# __Combining JSON files__\n",
        "\n",
        "This notebook unzips all the files in the accompanying folder and adds them to a single pandas dataframe\n",
        "\n",
        "Dataframe fields in json files are as follows: \n",
        "* `id`: Persistent id of the newspaper in the Chronicling America database\n",
        "* `date_issued`: Date the article was issued\n",
        "* `ed`: Edition in which the article appeared\n",
        "* `seq`: Image sequence number (may be equivalent to the page number?)\n",
        "* `paper`: Name of the newspaper to which the associated article belongs\n",
        "* `text`: Full text of the article\n",
        "\n",
        "URLs for any paper can be reconstructed via the following format:\n",
        "\n",
        "https://chroniclingamerica.loc.gov/lccn/{lccn}/{date}/ed-{edition}/seq-{imagesequence}\n"
      ]
    },
    {
      "cell_type": "code",
      "metadata": {
        "id": "waZxMx4SpW47",
        "colab_type": "code",
        "colab": {},
        "outputId": "d8dfb048-e57d-47d5-8484-fbdb652ee0c8"
      },
      "source": [
        "import zipfile\n",
        "import os, json\n",
        "import pandas as pd\n",
        "\n",
        "#Identify file location, and location to save unzipped files\n",
        "filepath = 'C:/Users/Lofgran/Documents/Python Scripts/CoronaWhy/spanish_flu_scraper/spanish_flu_data-20200707T034359Z-001.zip'\n",
        "save_location = 'C:/Users/Lofgran/Documents/Python Scripts/CoronaWhy/spanish_flu_scraper'\n",
        "\n",
        "#Unzip files\n",
        "with zipfile.ZipFile(filepath,\"r\") as zip_ref:\n",
        "    zip_ref.extractall(save_location)\n",
        "\n",
        "#Get list of files in folder\n",
        "json_files = [pos_json for pos_json in os.listdir(save_location+'/spanish_flu_data') if pos_json.endswith('.json')]\n",
        "print('Number of json_files: ', len(json_files))\n",
        "\n",
        "# Load files into pandas dataframe\n",
        "df = pd.DataFrame()\n",
        "for j in json_files:\n",
        "    df_temp = pd.read_json('/'.join((save_location, 'spanish_flu_data', j)), orient='columns')\n",
        "    df = df.append(df_temp)\n",
        "    \n",
        "print(df.info())\n",
        "\n",
        "df.head()"
      ],
      "execution_count": null,
      "outputs": [
        {
          "output_type": "stream",
          "text": [
            "Number of json_files:  318\n",
            "<class 'pandas.core.frame.DataFrame'>\n",
            "Int64Index: 15900 entries, 0 to 49\n",
            "Data columns (total 6 columns):\n",
            " #   Column       Non-Null Count  Dtype \n",
            "---  ------       --------------  ----- \n",
            " 0   id           15900 non-null  object\n",
            " 1   date_issued  15900 non-null  object\n",
            " 2   ed           15900 non-null  object\n",
            " 3   seq          15900 non-null  object\n",
            " 4   paper        15900 non-null  object\n",
            " 5   text         15900 non-null  object\n",
            "dtypes: object(6)\n",
            "memory usage: 869.5+ KB\n",
            "None\n"
          ],
          "name": "stdout"
        },
        {
          "output_type": "execute_result",
          "data": {
            "text/html": [
              "<div>\n",
              "<style scoped>\n",
              "    .dataframe tbody tr th:only-of-type {\n",
              "        vertical-align: middle;\n",
              "    }\n",
              "\n",
              "    .dataframe tbody tr th {\n",
              "        vertical-align: top;\n",
              "    }\n",
              "\n",
              "    .dataframe thead th {\n",
              "        text-align: right;\n",
              "    }\n",
              "</style>\n",
              "<table border=\"1\" class=\"dataframe\">\n",
              "  <thead>\n",
              "    <tr style=\"text-align: right;\">\n",
              "      <th></th>\n",
              "      <th>id</th>\n",
              "      <th>date_issued</th>\n",
              "      <th>ed</th>\n",
              "      <th>seq</th>\n",
              "      <th>paper</th>\n",
              "      <th>text</th>\n",
              "    </tr>\n",
              "  </thead>\n",
              "  <tbody>\n",
              "    <tr>\n",
              "      <th>0</th>\n",
              "      <td>sn99021999</td>\n",
              "      <td>1918-10-18</td>\n",
              "      <td>ed-1</td>\n",
              "      <td>seq-10</td>\n",
              "      <td>Omaha daily bee.</td>\n",
              "      <td>10\\nTHE BEE: OMAHA, FRIDAY, OCTOBER 18, tftl8....</td>\n",
              "    </tr>\n",
              "    <tr>\n",
              "      <th>1</th>\n",
              "      <td>sn87057934</td>\n",
              "      <td>1918-10-17</td>\n",
              "      <td>ed-1</td>\n",
              "      <td>seq-4</td>\n",
              "      <td>Audubon County journal.</td>\n",
              "      <td>UEGISTRATION OF WAR\\nBONDS IS URGED BY\\nLOAN O...</td>\n",
              "    </tr>\n",
              "    <tr>\n",
              "      <th>2</th>\n",
              "      <td>sn88064328</td>\n",
              "      <td>1918-10-12</td>\n",
              "      <td>ed-1</td>\n",
              "      <td>seq-6</td>\n",
              "      <td>New Iberia enterprise and independent observer.</td>\n",
              "      <td>SPANISH INFLUENZA\\nTHREE DAY FEVER.\\nWe were h...</td>\n",
              "    </tr>\n",
              "    <tr>\n",
              "      <th>3</th>\n",
              "      <td>sn89066315</td>\n",
              "      <td>1918-11-04</td>\n",
              "      <td>ed-1</td>\n",
              "      <td>seq-1</td>\n",
              "      <td>The Evening Missourian. [volume]</td>\n",
              "      <td>I\\nsrtgvS!iSiTIBriff!5S5S33BBBaS\\n,,w, - p i.j...</td>\n",
              "    </tr>\n",
              "    <tr>\n",
              "      <th>4</th>\n",
              "      <td>sn99021999</td>\n",
              "      <td>1918-10-06</td>\n",
              "      <td>ed-1</td>\n",
              "      <td>seq-5</td>\n",
              "      <td>Omaha daily bee.</td>\n",
              "      <td>THE OMAHA SUNDAY - BEE: OCTOBER 6. 1918.\\n'FLU...</td>\n",
              "    </tr>\n",
              "  </tbody>\n",
              "</table>\n",
              "</div>"
            ],
            "text/plain": [
              "           id date_issued    ed     seq  \\\n",
              "0  sn99021999  1918-10-18  ed-1  seq-10   \n",
              "1  sn87057934  1918-10-17  ed-1   seq-4   \n",
              "2  sn88064328  1918-10-12  ed-1   seq-6   \n",
              "3  sn89066315  1918-11-04  ed-1   seq-1   \n",
              "4  sn99021999  1918-10-06  ed-1   seq-5   \n",
              "\n",
              "                                             paper  \\\n",
              "0                                 Omaha daily bee.   \n",
              "1                          Audubon County journal.   \n",
              "2  New Iberia enterprise and independent observer.   \n",
              "3                 The Evening Missourian. [volume]   \n",
              "4                                 Omaha daily bee.   \n",
              "\n",
              "                                                text  \n",
              "0  10\\nTHE BEE: OMAHA, FRIDAY, OCTOBER 18, tftl8....  \n",
              "1  UEGISTRATION OF WAR\\nBONDS IS URGED BY\\nLOAN O...  \n",
              "2  SPANISH INFLUENZA\\nTHREE DAY FEVER.\\nWe were h...  \n",
              "3  I\\nsrtgvS!iSiTIBriff!5S5S33BBBaS\\n,,w, - p i.j...  \n",
              "4  THE OMAHA SUNDAY - BEE: OCTOBER 6. 1918.\\n'FLU...  "
            ]
          },
          "metadata": {
            "tags": []
          },
          "execution_count": 1
        }
      ]
    },
    {
      "cell_type": "code",
      "metadata": {
        "id": "La8sc5klpW5G",
        "colab_type": "code",
        "colab": {},
        "outputId": "22d95789-e90c-42b1-f08b-bc81ed79e85e"
      },
      "source": [
        "df.id.value_counts(dropna=False)"
      ],
      "execution_count": null,
      "outputs": [
        {
          "output_type": "execute_result",
          "data": {
            "text/plain": [
              "sn85034235    636\n",
              "sn89058012    636\n",
              "sn99021999    636\n",
              "sn83030193    636\n",
              "sn88085488    636\n",
              "sn88076432    636\n",
              "sn89066315    636\n",
              "sn88056159    318\n",
              "sn89055004    318\n",
              "sn88064328    318\n",
              "sn87065612    318\n",
              "sn86063041    318\n",
              "sn87062268    318\n",
              "sn87096037    318\n",
              "sn84038095    318\n",
              "sn82014519    318\n",
              "sn84027718    318\n",
              "sn86058242    318\n",
              "sn94052320    318\n",
              "sn91068748    318\n",
              "sn86091100    318\n",
              "sn90051006    318\n",
              "sn85038531    318\n",
              "sn85040437    318\n",
              "sn95060583    318\n",
              "sn85040652    318\n",
              "sn86091084    318\n",
              "sn85029856    318\n",
              "sn84026853    318\n",
              "sn88064055    318\n",
              "sn89067273    318\n",
              "sn94050892    318\n",
              "sn86086586    318\n",
              "sn86063774    318\n",
              "sn85050913    318\n",
              "sn87057934    318\n",
              "sn85035720    318\n",
              "sn85040720    318\n",
              "sn84031081    318\n",
              "sn88085318    318\n",
              "sn86069675    318\n",
              "sn00065154    318\n",
              "sn91068765    318\n",
              "Name: id, dtype: int64"
            ]
          },
          "metadata": {
            "tags": []
          },
          "execution_count": 8
        }
      ]
    },
    {
      "cell_type": "code",
      "metadata": {
        "id": "Rzj_cE4MpW5O",
        "colab_type": "code",
        "colab": {}
      },
      "source": [
        ""
      ],
      "execution_count": null,
      "outputs": []
    }
  ]
}